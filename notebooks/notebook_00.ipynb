{
    "metadata": {
        "kernelspec": {
            "name": "python3",
            "display_name": "Python 3"
        },
        "language_info": {
            "name": "python",
            "version": "3.6.6",
            "mimetype": "text/x-python",
            "codemirror_mode": {
                "name": "ipython",
                "version": 3
            },
            "pygments_lexer": "ipython3",
            "nbconvert_exporter": "python",
            "file_extension": ".py"
        }
    },
    "nbformat_minor": 2,
    "nbformat": 4,
    "cells": [
        {
            "cell_type": "markdown",
            "source": [
                "# Jupyter Notebook Fundamentals"
            ],
            "metadata": {
                "azdata_cell_guid": "2a15bf40-6d71-4180-8bd3-f5a104a5eede"
            }
        },
        {
            "cell_type": "markdown",
            "source": [
                "A **notebook** is a collection **cells**. These cells are run to execute code, render formatted text or display graphical visualizations."
            ],
            "metadata": {
                "azdata_cell_guid": "4b2701be-d5d4-4de8-a2d0-ecbb4487fe23"
            }
        },
        {
            "cell_type": "markdown",
            "source": [
                "## Understanding Code Cells and Markdown Cells"
            ],
            "metadata": {
                "azdata_cell_guid": "7f171e18-f899-4048-a0f6-6f318506d6cf"
            }
        },
        {
            "cell_type": "markdown",
            "source": [
                "The following cell (with the gray text area) is a code cell."
            ],
            "metadata": {
                "azdata_cell_guid": "0135b1b2-3f10-46c6-b3bb-974ef5b44ac7"
            }
        },
        {
            "cell_type": "code",
            "source": [
                "# This is a code cell\n",
                "# By default, a new cell added in a notebook is a code cell\n",
                "1 + 1"
            ],
            "metadata": {
                "azdata_cell_guid": "28f4aeab-0ef1-4b82-bd88-aed78ebf51f3"
            },
            "outputs": [],
            "execution_count": 8
        },
        {
            "cell_type": "markdown",
            "source": [
                "This notebook is written in Python. Because of this, you need to select the appropriate **Kernel** that you use to run the cells of this notebook.\n",
                "\n",
                "To select your Kernel:\n",
                "\n",
                "1. In the notebook toolbar, select the **Kernel** dropdown.\n",
                "2. From the drop-down, select **Python 3**.\n",
                "\n",
                "    ![Kernel dropdown.](https://github.com/solliancenet/MCW-Modernizing-data-analytics-with-SQL-Server-2019/raw/master/Hands-on%20lab/media/ads-notebook-select-kernel.png)\n",
                "\n",
                "The code cell above has not run yet, so the expressions of `1 + 1` has not been evaluated. To run the code cell, select the cell by placing your cursor within the cell text area and do any of the following:\n",
                "\n",
                "- Press `F5` to run the cell\n",
                "- Use the cell Run icon to the left of the cell\n",
                "\n",
                "    ![Run Cell](https://github.com/solliancenet/MCW-Modernizing-data-analytics-with-SQL-Server-2019/raw/master/Hands-on%20lab/media/ads-notebook-run.png)"
            ],
            "metadata": {
                "azdata_cell_guid": "73438214-623e-4a11-80b7-1533fa84c99a"
            }
        },
        {
            "cell_type": "markdown",
            "source": [
                "The following cell is another example of a code cell. Run it to see its output."
            ],
            "metadata": {
                "azdata_cell_guid": "5cd58b4a-62c8-407e-b314-551bef4b4334"
            }
        },
        {
            "cell_type": "code",
            "source": [
                "# This is also a code cell\n",
                "print(\"Welcome to your SQL Server 2019 Big Data cluster!\")"
            ],
            "metadata": {
                "azdata_cell_guid": "bd73c957-625f-4361-8e57-4fdea8888587"
            },
            "outputs": [],
            "execution_count": 9
        },
        {
            "cell_type": "markdown",
            "source": [
                "The following cell, which displays its output as formatted text is a text cell that supports [markdown](https://en.wikipedia.org/wiki/Markdown) format."
            ],
            "metadata": {
                "azdata_cell_guid": "b2957b03-043e-4e75-8f86-fc3aaa1b7f76"
            }
        },
        {
            "cell_type": "markdown",
            "source": [
                "This is a *text* cell.\n",
                "\n",
                "To create a text cell, select the cell command menu on the upper-right (...). In the context menu, select **Insert Text Before** to add a text cell above this one, or **Insert Text After** to add one after this cell.\n",
                "\n",
                "![Cell command menu.](https://github.com/solliancenet/MCW-Modernizing-data-analytics-with-SQL-Server-2019/raw/master/Hands-on%20lab/media/ads-notebook-command.png)"
            ],
            "metadata": {
                "azdata_cell_guid": "96477b92-82bd-4f2f-af5a-f03c9a5a89e6"
            }
        },
        {
            "cell_type": "markdown",
            "source": [
                "Double click on the above cell and notice how the cell changes to an editable code cell.\n",
                "\n",
                "A preview of the markdown is displayed below the cell. To finish editing, simply click somewhere outside of the cell or press `Esc`."
            ],
            "metadata": {
                "azdata_cell_guid": "d0205130-d76a-4910-830a-dacf45f427ed"
            }
        },
        {
            "cell_type": "markdown",
            "source": [
                "### Understanding cell output"
            ],
            "metadata": {
                "azdata_cell_guid": "408b2e85-af38-4056-9ec8-e37b352557a5"
            }
        },
        {
            "cell_type": "markdown",
            "source": [
                "By default, a notebook cell will output the value of evaluating the last line the cell."
            ],
            "metadata": {
                "azdata_cell_guid": "99b3baf5-254b-4362-a14e-af95fc06fa6b"
            }
        },
        {
            "cell_type": "markdown",
            "source": [
                "Run the following cell. Observe that the entire cell is echoed in the output because the cell contains only one line."
            ],
            "metadata": {
                "azdata_cell_guid": "8e707bf2-9eea-4851-8622-46f6342bdedd"
            }
        },
        {
            "cell_type": "code",
            "source": [
                "\"Hello SQL world!\""
            ],
            "metadata": {
                "azdata_cell_guid": "83e7f433-2b28-4ba7-8a1a-2a60beba52b5"
            },
            "outputs": [],
            "execution_count": 10
        },
        {
            "cell_type": "markdown",
            "source": [
                "Next, examine the following cell. What do you expect the output to be? Run the cell and confirm your understanding."
            ],
            "metadata": {
                "azdata_cell_guid": "9cf0582c-471d-4390-8436-d8775f596c30"
            }
        },
        {
            "cell_type": "code",
            "source": [
                "\"Hello SQL world!\"\n",
                "\"And, hello Jupyter notebook!\""
            ],
            "metadata": {
                "azdata_cell_guid": "f1511a52-da27-4d75-ad42-26949d52ab53"
            },
            "outputs": [],
            "execution_count": 11
        },
        {
            "cell_type": "markdown",
            "source": [
                "If you want to ensure your output displays something, use the `print` method."
            ],
            "metadata": {
                "azdata_cell_guid": "9c43b3fb-5265-4219-bf50-a2e7bd10dfa8"
            }
        },
        {
            "cell_type": "code",
            "source": [
                "print(\"Hello SQL world!\")\n",
                "print(\"And, hello Jupyter notebook!\")"
            ],
            "metadata": {
                "azdata_cell_guid": "04525090-4da7-4402-9dc8-39fc0ca50997"
            },
            "outputs": [],
            "execution_count": 12
        },
        {
            "cell_type": "markdown",
            "source": [
                "Not all code lines return a value to be output. Run the following cell to see one such an example."
            ],
            "metadata": {
                "azdata_cell_guid": "73730f12-bc50-4951-a07e-7bf574f2719d"
            }
        },
        {
            "cell_type": "code",
            "source": [
                "text_variable = \"Hello, hello!\""
            ],
            "metadata": {
                "azdata_cell_guid": "0da3e3bb-4394-4ca3-ad79-ca4f2b66b8ed"
            },
            "outputs": [],
            "execution_count": 13
        },
        {
            "cell_type": "markdown",
            "source": [
                "## Running multiple notebook cells"
            ],
            "metadata": {
                "azdata_cell_guid": "44c217ec-86e0-4144-9a70-d4ca065356a6"
            }
        },
        {
            "cell_type": "markdown",
            "source": [
                "It is not uncommon to need to run (or re-run) a all notebook cells in top to bottom order.\n",
                "\n",
                "To do this, select **Run Cells** in the toolbar above the notebook. This runs all cells starting from the first."
            ],
            "metadata": {
                "azdata_cell_guid": "21f411d2-2069-44bf-ab8a-7a72df82608f"
            }
        },
        {
            "cell_type": "markdown",
            "source": [
                "## Adding code cells"
            ],
            "metadata": {
                "azdata_cell_guid": "ed811b1a-5bee-4981-bdbc-c25b9b285eb6"
            }
        },
        {
            "cell_type": "markdown",
            "source": [
                "You can add new code cells in the same way you add text cells.\n",
                "\n",
                "To do this, select the cell command menu on the upper-right (...). In the context menu, select **Insert Code Before** to add a code cell above this one, or **Insert Code After** to add one after this cell.\n",
                "\n",
                "![Cell command menu.](https://github.com/solliancenet/MCW-Modernizing-data-analytics-with-SQL-Server-2019/raw/master/Hands-on%20lab/media/ads-cell-command-code.png)\n",
                "\n",
                "You can also use this command menu to delete a cell."
            ],
            "metadata": {
                "azdata_cell_guid": "4f81d712-7f6e-4a08-a2b2-b0b58732c040"
            }
        },
        {
            "cell_type": "markdown",
            "source": [
                "## Understanding notebook state"
            ],
            "metadata": {
                "azdata_cell_guid": "31e1acd2-8a71-4fb8-8200-5d5c47c9b062"
            }
        },
        {
            "cell_type": "markdown",
            "source": [
                "When you execute notebook cells, their execution is backed by a process running on a cluster or locally, depending on the Kernel you select. The state of your notebook, such as the values of variables, is maintained in the process. All variables default to a global scope (unless you author your code so it has nested scopes) and this global state can be a little confusing at first when you re-run cells."
            ],
            "metadata": {
                "azdata_cell_guid": "4de13b40-0643-4d07-ab8d-64ae6e4f8b98"
            }
        },
        {
            "cell_type": "markdown",
            "source": [
                "Run the following two cells in order and take note of the value ouput for the variable `y`:"
            ],
            "metadata": {
                "azdata_cell_guid": "016101d7-4130-46ac-bc2b-75c6ab77ab24"
            }
        },
        {
            "cell_type": "code",
            "source": [
                "x = 10"
            ],
            "metadata": {
                "azdata_cell_guid": "7c3cf600-9125-42eb-8e79-69e39cbeb50f"
            },
            "outputs": [],
            "execution_count": 24
        },
        {
            "cell_type": "code",
            "source": [
                "y = x + 1\n",
                "y"
            ],
            "metadata": {
                "azdata_cell_guid": "381c7224-c61e-4eea-a7b4-4261e88c2910"
            },
            "outputs": [],
            "execution_count": 27
        },
        {
            "cell_type": "markdown",
            "source": [
                "Next, run the following cell."
            ],
            "metadata": {
                "azdata_cell_guid": "e2f77267-dab9-4b4f-af29-8e74e1092f7e"
            }
        },
        {
            "cell_type": "code",
            "source": [
                "x = 100"
            ],
            "metadata": {
                "azdata_cell_guid": "c9011bc4-d422-4606-bc38-f798d082c631"
            },
            "outputs": [],
            "execution_count": 26
        },
        {
            "cell_type": "markdown",
            "source": [
                "Now select the cell that has the lines `y = x + 1` and `y`. And re-run that cell. Did the value of `y` meet your expectation? \n",
                "\n",
                "The value of `y` should now be `101`. This is because it is not the actual order of the cells that determines the value, but the order in which they are run and how that affects the underlying state itself. To understand this, realize that when the code `x = 100` was run, this changed the value of `x`, and then when you re-ran the cell containing `y = x + 1` this evaluation used the current value of x which is 100. This resulted in `y` having a value of `101` and not `11`."
            ],
            "metadata": {
                "azdata_cell_guid": "d991df48-ec45-4d71-874e-21aacb3ef4f4"
            }
        },
        {
            "cell_type": "markdown",
            "source": [
                "### Clearing results\n",
                "\n",
                "You can use the **Clear Results** toolbar item above the notebook to clear all displayed output from underneath code cells.\n",
                "\n",
                "You typically do this when you want to cleanly re-run a notebook you have been working on and eliminate any accidental changes to the state that may have occured while you were authoring the notebook."
            ],
            "metadata": {
                "azdata_cell_guid": "40784bbb-11d4-4784-9fce-db9da226b6e2"
            }
        }
    ]
}
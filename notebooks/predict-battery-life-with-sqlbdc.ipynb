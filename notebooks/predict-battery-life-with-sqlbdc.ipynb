{
    "metadata": {
        "kernelspec": {
            "name": "pysparkkernel",
            "display_name": "PySpark"
        },
        "language_info": {
            "name": "pyspark",
            "mimetype": "text/x-python",
            "codemirror_mode": {
                "name": "python",
                "version": 2
            },
            "pygments_lexer": "python2"
        }
    },
    "nbformat_minor": 2,
    "nbformat": 4,
    "cells": [
        {
            "cell_type": "markdown",
            "source": [
                "# Training and scoring within a SQL Big Data Cluster\r\n",
                "\r\n",
                "In this notebook you will train a model, use it to score data that has been uploaded to HDFS, and save the scored result to an external table.\r\n",
                "\r\n",
                "Wide World Importers has refrigerated trucks to deliver temperature-sensitive products. These are high-profit, and high-expense items. In the past, there have been failures in the cooling systems, and the primary culprit has been the deep-cycle batteries used in the system.\r\n",
                "\r\n",
                "WWI began replacing the batteries every three months as a preventative measure, but this has a high cost. Recently, the taxes on recycling batteries has increased dramatically. The CEO has asked the Data Science team if they can investigate creating a Predictive Maintenance system to more accurately tell the maintenance staff how long a battery will last, rather than relying on a flat 3 month cycle.\r\n",
                "\r\n",
                "The trucks have sensors that transmit data to a file location. The trips are also logged. In this Jupyter Notebook, you'll create, train and store a Machine Learning model using SciKit-Learn, so that it can be deployed to multiple hosts.\r\n",
                "\r\n",
                "Begin by running the following cell. You can run any code cell by placing your cursor within its region and then selecting the play icon (a triangle within a circle) that appears on the left."
            ],
            "metadata": {
                "azdata_cell_guid": "97c0fe52-014b-406d-8b28-e7ff8301e0bb"
            }
        },
        {
            "cell_type": "code",
            "source": [
                "# Import the standard modules we need\r\n",
                "import pickle \r\n",
                "import pandas as pd\r\n",
                "import numpy as np\r\n",
                "import datetime as dt\r\n",
                "from sklearn.linear_model import LogisticRegression\r\n",
                "from sklearn.model_selection import train_test_split"
            ],
            "metadata": {
                "azdata_cell_guid": "b5d96e44-05a1-4ef1-8a38-f5d65e073146"
            },
            "outputs": [],
            "execution_count": 18
        },
        {
            "cell_type": "markdown",
            "source": [
                "First, download the sensor data from the location where it is transmitted from the trucks, and load it into a Spark DataFrame."
            ],
            "metadata": {
                "azdata_cell_guid": "2148eafd-f11b-4387-824f-abbca202f7e3"
            }
        },
        {
            "cell_type": "code",
            "source": [
                "df = pd.read_csv('https://raw.githubusercontent.com/solliancenet/tech-immersion-data-ai/master/environment-setup/data/2/training-formatted.csv', header=0)\r\n",
                "df.dropna()\r\n",
                "print(df.shape)\r\n",
                "print(list(df.columns))"
            ],
            "metadata": {
                "azdata_cell_guid": "79066aa2-e817-4ea0-ade4-83ae35b465ed"
            },
            "outputs": [],
            "execution_count": 19
        },
        {
            "cell_type": "markdown",
            "source": [
                "After examining the data, the Data Science team selects certain columns that they believe are highly predictive of the battery life.\r\n",
                "\r\n",
                "Now, you will pick out the features and labels from the training data. Run the following cell."
            ],
            "metadata": {
                "azdata_cell_guid": "d4297897-3c23-447a-b294-e5236e034914"
            }
        },
        {
            "cell_type": "code",
            "source": [
                "# Select the features used for predicting battery life\r\n",
                "x = df.iloc[:,1:74]\r\n",
                "x = x.iloc[:,np.r_[2:7, 9:73]]\r\n",
                "x = x.interpolate() \r\n",
                "\r\n",
                "# Select the labels only (the measured battery life) \r\n",
                "y = df.iloc[:,0].values.flatten()"
            ],
            "metadata": {
                "azdata_cell_guid": "a204eee5-d1cc-4d80-978b-75925d295e90"
            },
            "outputs": [],
            "execution_count": 20
        },
        {
            "cell_type": "markdown",
            "source": [
                "Run the following cell to view the features that will be used to train the model."
            ],
            "metadata": {
                "azdata_cell_guid": "8065145f-7a53-44e3-8b37-95b4576deb9a"
            }
        },
        {
            "cell_type": "code",
            "source": [
                "# Examine the features selected \r\n",
                "print(list(x.columns))"
            ],
            "metadata": {
                "azdata_cell_guid": "45da506f-f205-42ff-b87f-24c58ff5e9e3"
            },
            "outputs": [],
            "execution_count": 21
        },
        {
            "cell_type": "markdown",
            "source": [
                "The lead Data Scientist believes that a standard Regression algorithm would do the best predictions.\r\n",
                "\r\n",
                "In the following cell, you train a model using a GradientBoostingRegressor, providing it the features (X) and the label values (Y). Run the following cell."
            ],
            "metadata": {
                "azdata_cell_guid": "4db4a113-315b-4b6e-ab19-f74752bc908a"
            }
        },
        {
            "cell_type": "code",
            "source": [
                "# Train a regression model \r\n",
                "from sklearn.ensemble import GradientBoostingRegressor \r\n",
                "model = GradientBoostingRegressor() \r\n",
                "model.fit(x,y)"
            ],
            "metadata": {
                "azdata_cell_guid": "1e780aea-2a95-4d7e-a8b2-afd63a87e90a"
            },
            "outputs": [],
            "execution_count": 22
        },
        {
            "cell_type": "markdown",
            "source": [
                "Now try making a single prediction with the trained model. Run the following cell."
            ],
            "metadata": {
                "azdata_cell_guid": "0cd17b63-9c63-4c92-9398-5dd6abd47bf8"
            }
        },
        {
            "cell_type": "code",
            "source": [
                "# Try making a single prediction and observe the result\r\n",
                "model.predict(x.iloc[0:1])"
            ],
            "metadata": {
                "azdata_cell_guid": "55d4d3f1-4b1c-4092-b2cf-5fac5156ece3"
            },
            "outputs": [],
            "execution_count": 23
        },
        {
            "cell_type": "markdown",
            "source": [
                "With a trained model in hand, you are now ready to score battery life predictions against a new set of vehicle telemetry data. The output of the cell will be predicted battery life for each vehicle. Run the following cell."
            ],
            "metadata": {
                "azdata_cell_guid": "c76f31c5-dd45-4ea3-a61e-e0b569c0dbe0"
            }
        },
        {
            "cell_type": "code",
            "source": [
                "# access the test data from HDFS by reading into a Spark DataFrame \r\n",
                "test_data = pd.read_csv('https://raw.githubusercontent.com/solliancenet/tech-immersion-data-ai/master/environment-setup/data/2/fleet-formatted.csv', header=0)\r\n",
                "test_data.dropna()\r\n",
                "\r\n",
                "# prepare the test data (dropping unused columns) \r\n",
                "test_data = test_data.drop(columns=[\"Car_ID\", \"Battery_Age\"])\r\n",
                "test_data = test_data.iloc[:,np.r_[2:7, 9:73]]\r\n",
                "test_data.rename(columns={'Twelve_hourly_temperature_forecast_for_next_31_days _reversed': 'Twelve_hourly_temperature_history_for_last_31_days_before_death_l ast_recording_first'}, inplace=True) \r\n",
                "# make the battery life predictions for each of the vehicles in the test data \r\n",
                "battery_life_predictions = model.predict(test_data) \r\n",
                "# examine the prediction \r\n",
                "battery_life_predictions"
            ],
            "metadata": {
                "azdata_cell_guid": "a752db09-f7cc-445b-b04e-0325c0a1335e"
            },
            "outputs": [],
            "execution_count": 24
        },
        {
            "cell_type": "markdown",
            "source": [
                "Now you can package up the predictions along with the vehicle telemetry into a single DataFrame so that you can export it back out to HDFS as a CSV."
            ],
            "metadata": {
                "azdata_cell_guid": "e30b7998-f48e-4f79-9228-ca5e8e5ba5ea"
            }
        },
        {
            "cell_type": "code",
            "source": [
                "# prepare one data frame that includes predictions for each vehicle\r\n",
                "scored_data = test_data\r\n",
                "scored_data[\"Estimated_Battery_Life\"] = battery_life_predictions\r\n",
                "\r\n",
                "df_scored = spark.createDataFrame(scored_data)\r\n",
                "\r\n",
                "df_scored.coalesce(1).write.option(\"header\", \"true\").csv(\"/data/battery-life.csv\")"
            ],
            "metadata": {
                "azdata_cell_guid": "e119531a-7811-4c0f-82e9-ef53ce114689"
            },
            "outputs": [],
            "execution_count": 28
        },
        {
            "cell_type": "markdown",
            "source": [
                "The above command creates a folder called `battery-life.csv`, which contains one CSV file that you can create an external table from, which will enable you to query the predictions for each vehicle from SQL. Return to the lab instructions to learn how to create an external table you can use for querying this data using SQL.\r\n",
                ""
            ],
            "metadata": {
                "azdata_cell_guid": "79ef6067-171e-4d85-b5d2-6c36389c81b8"
            }
        },
        {
            "cell_type": "markdown",
            "source": [
                "## Optional - export and operationalize trained model\r\n",
                "\r\n",
                "Once you are satisfied with the Model, you can save it out using the \"Pickle\" library for deployment to other systems."
            ],
            "metadata": {
                "azdata_cell_guid": "1e51981c-c0ad-455c-b99a-5fe379c11048"
            }
        },
        {
            "cell_type": "code",
            "source": [
                "pickle_file = open('/tmp/pdm.pkl', 'wb')\r\n",
                "pickle.dump(model, pickle_file)\r\n",
                "import os\r\n",
                "print(os.getcwd())\r\n",
                "os.listdir('///tmp')"
            ],
            "metadata": {
                "azdata_cell_guid": "2651f692-75f5-4dc4-b0e3-f167abc67212"
            },
            "outputs": [],
            "execution_count": 29
        },
        {
            "cell_type": "markdown",
            "source": [
                "You could export this model and [run it at the edge or in SQL Server directly](https://azure.microsoft.com/en-us/services/sql-database-edge/). Here's an example of what that code could look like:\r\n",
                "\r\n",
                "```sql\r\n",
                "DECLARE @query_string nvarchar(max) -- Query Truck Data\r\n",
                "SET @query_string='\r\n",
                "SELECT ['Trip_Length_Mean', 'Trip_Length_Sigma', 'Trips_Per_Day_Mean', 'Trips_Per_Day_Sigma', 'Battery_Rated_Cycles', 'Alternator_Efficiency', 'Car_Has_EcoStart', 'Twelve_hourly_temperature_history_for_last_31_days_before_death_last_recording_first', 'Sensor_Reading_1', 'Sensor_Reading_2', 'Sensor_Reading_3', 'Sensor_Reading_4', 'Sensor_Reading_5', 'Sensor_Reading_6', 'Sensor_Reading_7', 'Sensor_Reading_8', 'Sensor_Reading_9', 'Sensor_Reading_10', 'Sensor_Reading_11', 'Sensor_Reading_12', 'Sensor_Reading_13', 'Sensor_Reading_14', 'Sensor_Reading_15', 'Sensor_Reading_16', 'Sensor_Reading_17', 'Sensor_Reading_18', 'Sensor_Reading_19', 'Sensor_Reading_20', 'Sensor_Reading_21', 'Sensor_Reading_22', 'Sensor_Reading_23', 'Sensor_Reading_24', 'Sensor_Reading_25', 'Sensor_Reading_26', 'Sensor_Reading_27', 'Sensor_Reading_28', 'Sensor_Reading_29', 'Sensor_Reading_30', 'Sensor_Reading_31', 'Sensor_Reading_32', 'Sensor_Reading_33', 'Sensor_Reading_34', 'Sensor_Reading_35', 'Sensor_Reading_36', 'Sensor_Reading_37', 'Sensor_Reading_38', 'Sensor_Reading_39', 'Sensor_Reading_40', 'Sensor_Reading_41', 'Sensor_Reading_42', 'Sensor_Reading_43', 'Sensor_Reading_44', 'Sensor_Reading_45', 'Sensor_Reading_46', 'Sensor_Reading_47', 'Sensor_Reading_48', 'Sensor_Reading_49', 'Sensor_Reading_50', 'Sensor_Reading_51', 'Sensor_Reading_52', 'Sensor_Reading_53', 'Sensor_Reading_54', 'Sensor_Reading_55', 'Sensor_Reading_56', 'Sensor_Reading_57', 'Sensor_Reading_58', 'Sensor_Reading_59', 'Sensor_Reading_60', 'Sensor_Reading_61']\r\n",
                "FROM Truck_Sensor_Readings'\r\n",
                "EXEC [dbo].[PredictBattLife] 'pdm', @query_string;\r\n",
                "```"
            ],
            "metadata": {
                "azdata_cell_guid": "3d0a6317-8aa3-4550-89e1-a1bfec27c3f2"
            }
        }
    ]
}
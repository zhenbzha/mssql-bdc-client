{
    "metadata": {
        "kernelspec": {
            "name": "SQL",
            "display_name": "SQL",
            "language": "sql"
        },
        "language_info": {
            "name": "sql",
            "version": ""
        }
    },
    "nbformat_minor": 2,
    "nbformat": 4,
    "cells": [
        {
            "cell_type": "markdown",
            "source": [
                "<img src=\"https://github.com/Microsoft/sqlworkshops/blob/master/graphics/solutions-microsoft-logo-small.png?raw=true\" alt=\"Microsoft\">\r\n",
                "<br>\r\n",
                "\r\n",
                "# SQL Server 2019 big data cluster Tutorial\r\n",
                "## 02 - Data Virtualization\r\n",
                "\r\n",
                "In this tutorial you will learn how to create and query Virtualized Data in a SQL Server big data cluster.  \r\n",
                "- You'll start with creating a text file format, since that's the type of data you are reading in. \r\n",
                "- Next, you'll create a data source for the SQL Storage Pool, since that allows you to access the HDFS system in BDC. \r\n",
                "- Finally, you'll create an External Table, which uses the previous steps to access the data.\r\n",
                ""
            ],
            "metadata": {
                "azdata_cell_guid": "8e709e26-4d17-44e7-b33c-ca1885f9b58b"
            }
        },
        {
            "cell_type": "code",
            "source": [
                "/* Create External File Format */\r\n",
                "\r\n",
                "USE sales;\r\n",
                "GO\r\n",
                "\r\n",
                "IF NOT EXISTS\r\n",
                "(\r\n",
                "    SELECT 1\r\n",
                "    FROM sys.external_file_formats\r\n",
                "    WHERE\r\n",
                "        name = 'csv_file'\r\n",
                ")\r\n",
                "BEGIN\r\n",
                "    CREATE EXTERNAL FILE FORMAT csv_file\r\n",
                "    WITH\r\n",
                "    (\r\n",
                "        FORMAT_TYPE = DELIMITEDTEXT,\r\n",
                "        FORMAT_OPTIONS\r\n",
                "        (\r\n",
                "            FIELD_TERMINATOR = ',',\r\n",
                "            STRING_DELIMITER = '0x22',\r\n",
                "            FIRST_ROW = 2,\r\n",
                "            USE_TYPE_DEFAULT = TRUE\r\n",
                "        )\r\n",
                "    );\r\n",
                "END"
            ],
            "metadata": {
                "azdata_cell_guid": "be52fc6a-64d9-4ba7-a5a5-0482aad593b0"
            },
            "outputs": [],
            "execution_count": 1
        },
        {
            "cell_type": "code",
            "source": [
                "/* Create External Data Source to the Storage Pool */\r\n",
                "IF NOT EXISTS\r\n",
                "(\r\n",
                "     SELECT 1\r\n",
                "     FROM sys.external_data_sources\r\n",
                "     WHERE\r\n",
                "          name = 'SqlStoragePool'\r\n",
                ")\r\n",
                "BEGIN\r\n",
                "     CREATE EXTERNAL DATA SOURCE SqlStoragePool\r\n",
                "     WITH (LOCATION = 'sqlhdfs://controller-svc:8080/default');\r\n",
                "END"
            ],
            "metadata": {
                "azdata_cell_guid": "16cf7ec9-4607-4366-b461-78b305225e35"
            },
            "outputs": [],
            "execution_count": 3
        },
        {
            "cell_type": "code",
            "source": [
                "/* Create an External Table that can read from the Storage Pool File Location */\r\n",
                "IF NOT EXISTS\r\n",
                "(\r\n",
                "    SELECT 1\r\n",
                "    FROM sys.external_tables\r\n",
                "    WHERE\r\n",
                "        name = 'partner_customers_hdfs'\r\n",
                ")\r\n",
                "BEGIN\r\n",
                "    CREATE EXTERNAL TABLE dbo.partner_customers_hdfs\r\n",
                "    (\r\n",
                "        CustomerSource VARCHAR(250),\r\n",
                "        CustomerName VARCHAR(250),\r\n",
                "        EmailAddress VARCHAR(250)\r\n",
                "    )\r\n",
                "    WITH\r\n",
                "    (\r\n",
                "        DATA_SOURCE = SqlStoragePool,\r\n",
                "        LOCATION = '/partner_customers',\r\n",
                "        FILE_FORMAT = csv_file\r\n",
                "    );\r\n",
                "END"
            ],
            "metadata": {
                "azdata_cell_guid": "863c1722-bab8-4904-a2d2-b52f6b9b7b17"
            },
            "outputs": [],
            "execution_count": 4
        },
        {
            "cell_type": "code",
            "source": [
                "/* Read Data from HDFS using only T-SQL */\r\n",
                "\r\n",
                "SELECT TOP(100)\r\n",
                "    hdfs.CustomerSource,\r\n",
                "    hdfs.CustomerName,\r\n",
                "    hdfs.EmailAddress\r\n",
                "FROM dbo.partner_customers_hdfs hdfs\r\n",
                "WHERE\r\n",
                "    hdfs.EmailAddress LIKE '%wingtip%'\r\n",
                "ORDER BY\r\n",
                "    CustomerSource,\r\n",
                "    CustomerName;\r\n",
                "GO"
            ],
            "metadata": {
                "azdata_cell_guid": "c73f5f99-7dc8-4a63-897f-48c948d293fe"
            },
            "outputs": [],
            "execution_count": 17
        },
        {
            "cell_type": "code",
            "source": [
                "/* Now Join Those to show customers we currently have in a SQL Server Database \r\n",
                "and the Category they are in the External Table */\r\n",
                "DROP TABLE IF EXISTS dbo.CustomersWithBadCredit;\r\n",
                "\r\n",
                "CREATE TABLE dbo.CustomersWithBadCredit\r\n",
                "(\r\n",
                "    CustomerName varchar(100)\r\n",
                ");\r\n",
                "\r\n",
                "INSERT INTO dbo.CustomersWithBadCredit\r\n",
                "VALUES\r\n",
                "    ('Abel Pirvu'),\r\n",
                "    ('Adirake Saenamuang'),\r\n",
                "    ('Crina Nechita');\r\n",
                "\r\n",
                "\r\n",
                "--Combine SQL Data with HDFS to show the email address of customers with bad credit.\r\n",
                "SELECT hdfs.*\r\n",
                "FROM partner_customers_hdfs hdfs\r\n",
                "WHERE\r\n",
                "    hdfs.CustomerName IN (SELECT CustomerName FROM dbo.CustomersWithBadCredit);\r\n",
                ""
            ],
            "metadata": {
                "azdata_cell_guid": "47f5f318-9bf2-4367-814e-aed08c785149"
            },
            "outputs": [],
            "execution_count": 18
        },
        {
            "cell_type": "markdown",
            "source": [
                "## Next Steps: Continue on to Working with the SQL Server Data Pool\r\n",
                "\r\n",
                "Now you're ready to open the next Python Notebook - `notebook_03.ipynb` - to learn how to create and work with a Data Mart."
            ],
            "metadata": {
                "azdata_cell_guid": "c741feaa-c9a7-48f0-887b-28eedcd14245"
            }
        }
    ]
}
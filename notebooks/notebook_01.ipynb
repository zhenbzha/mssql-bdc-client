{
    "metadata": {
        "kernelspec": {
            "name": "SQL",
            "display_name": "SQL",
            "language": "sql"
        },
        "language_info": {
            "name": "sql",
            "version": ""
        }
    },
    "nbformat_minor": 2,
    "nbformat": 4,
    "cells": [
        {
            "cell_type": "markdown",
            "source": [
                "<img src=\"https://github.com/Microsoft/sqlworkshops/blob/master/graphics/solutions-microsoft-logo-small.png?raw=true\" alt=\"Microsoft\">\r\n",
                "<br>\r\n",
                "\r\n",
                "# SQL Server 2019 big data cluster Tutorial\r\n",
                "## 01 - SQL Server Master Instance Queries\r\n",
                "\r\n",
                "In this tutorial you will learn how to run standard SQL Server Queries against the Master Instance (MI) in a SQL Server big data cluster. \r\n",
                "\r\n",
                "You'll start with a simple set of queries to explore the Instance: \r\n",
                "\r\n",
                ""
            ],
            "metadata": {
                "azdata_cell_guid": "620246eb-7c2b-4137-ac6b-0906f94e2637"
            }
        },
        {
            "cell_type": "code",
            "source": [
                "/* Instance Version */\r\n",
                "SELECT @@VERSION; \r\n",
                "GO\r\n",
                "\r\n",
                "/* General Configuration */\r\n",
                "USE master;  \r\n",
                "GO  \r\n",
                "EXEC sp_configure;\r\n",
                "GO\r\n",
                "\r\n",
                "/* Databases on this Instance */\r\n",
                "SELECT\r\n",
                "    db.name AS 'Database Name',\r\n",
                "    Physical_Name AS 'Location on Disk',\r\n",
                "    CAST(CAST(ROUND(CAST(mf.size AS DECIMAL) * 8.0/1024000.0,2) AS DECIMAL(18,2)) AS NVARCHAR) AS 'Size (GB)'\r\n",
                "FROM sys.master_files mf\r\n",
                "    INNER JOIN sys.databases db\r\n",
                "        ON db.database_id = mf.database_id\r\n",
                "WHERE\r\n",
                "    mf.type_desc = 'ROWS';\r\n",
                "GO\r\n",
                "\r\n",
                "SELECT *\r\n",
                "FROM sys.master_files mf;"
            ],
            "metadata": {
                "azdata_cell_guid": "a40f2f9c-8be7-4341-8a13-aa5e4e07bac7"
            },
            "outputs": [],
            "execution_count": 1
        },
        {
            "cell_type": "markdown",
            "source": [
                "## Query Data\r\n",
                "\r\n",
                "The SQL Server 2019 big data cluster Master Instance is a SQL Server Instance - and as such has most all of the query facilities and capabilities of Microsoft SQL Server running on Linux.\r\n",
                "\r\n",
                "In these queries you'll explore some customer information, in preparation for combining that information with external sources. You can add cells to this workbook to explore more. "
            ],
            "metadata": {
                "azdata_cell_guid": "d738aa43-72a7-4865-b13e-a13708e1bc28"
            }
        },
        {
            "cell_type": "code",
            "source": [
                "/* Get some general information about the data in the WWI OLTP system */\r\n",
                "USE sales;\r\n",
                "GO\r\n",
                "\r\n",
                "/* Show the inventory and items. */\r\n",
                "SELECT TOP(1000) *\r\n",
                "FROM inventory i \r\n",
                "    INNER JOIN item it \r\n",
                "        ON i.inv_item_sk = it.i_item_sk;\r\n",
                "GO"
            ],
            "metadata": {
                "azdata_cell_guid": "13995d50-736f-4df3-aad2-8466726f6298"
            },
            "outputs": [],
            "execution_count": 5
        },
        {
            "cell_type": "markdown",
            "source": [
                "## Next Step: Data Virtualization\r\n",
                "\r\n",
                "Now you're ready to open the next Python Notebook - `notebook_02.ipynb` - to learn how to work with Data Virtualization."
            ],
            "metadata": {
                "azdata_cell_guid": "053a95e4-e92b-432e-bded-b7fd76e860c3"
            }
        }
    ]
}